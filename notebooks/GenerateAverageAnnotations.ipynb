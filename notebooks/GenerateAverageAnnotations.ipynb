{
 "cells": [
  {
   "cell_type": "markdown",
   "source": [
    "# Generate average Annotations to compare with Uncertainty masks"
   ],
   "metadata": {
    "collapsed": false,
    "pycharm": {
     "name": "#%% md\n"
    }
   }
  },
  {
   "cell_type": "code",
   "execution_count": 1,
   "outputs": [],
   "source": [
    "# Import libraries\n",
    "import os\n",
    "import re\n",
    "from glob import glob\n",
    "import numpy as np\n",
    "from monai.data import CacheDataset, DataLoader\n",
    "from monai.transforms import AddChanneld, Compose, LoadImaged, ToTensord\n",
    "from monai.data import write_nifti"
   ],
   "metadata": {
    "collapsed": false,
    "pycharm": {
     "name": "#%%\n"
    }
   }
  },
  {
   "cell_type": "code",
   "execution_count": 2,
   "outputs": [
    {
     "name": "stdout",
     "output_type": "stream",
     "text": [
      "Testing cases: 24\n"
     ]
    },
    {
     "name": "stderr",
     "output_type": "stream",
     "text": [
      "Loading dataset: 100%|██████████| 2/2 [00:01<00:00,  1.63it/s]\n"
     ]
    }
   ],
   "source": [
    "# Specify the path to the \"eval_in/\" directory\n",
    "annotator_dir = \"/home/akamath/Documents/miccaihackathon_shifts/data/shifts_ms_pt1/shifts_ms_pt1/msseg/eval_in/individual_annotators\"\n",
    "save_dir = \"/home/akamath/Documents/miccaihackathon_shifts/data/disagreement_in_annotators\"\n",
    "os.makedirs(save_dir, exist_ok=True)\n",
    "\n",
    "annotator_1_files = sorted(glob(os.path.join(annotator_dir, \"annotator1\", \"*ann1_isovox.nii.gz\")),\n",
    "              key=lambda i: int(re.sub('\\D', '', i)))\n",
    "annotator_2_files = sorted(glob(os.path.join(annotator_dir, \"annotator2\", \"*ann2_isovox.nii.gz\")),\n",
    "              key=lambda i: int(re.sub('\\D', '', i)))\n",
    "annotator_3_files = sorted(glob(os.path.join(annotator_dir, \"annotator3\", \"*ann3_isovox.nii.gz\")),\n",
    "              key=lambda i: int(re.sub('\\D', '', i)))\n",
    "annotator_4_files = sorted(glob(os.path.join(annotator_dir, \"annotator4\", \"*ann4_isovox.nii.gz\")),\n",
    "              key=lambda i: int(re.sub('\\D', '', i)))\n",
    "annotator_5_files = sorted(glob(os.path.join(annotator_dir, \"annotator5\", \"*ann5_isovox.nii.gz\")),\n",
    "              key=lambda i: int(re.sub('\\D', '', i)))\n",
    "annotator_6_files = sorted(glob(os.path.join(annotator_dir, \"annotator6\", \"*ann6_isovox.nii.gz\")),\n",
    "              key=lambda i: int(re.sub('\\D', '', i)))\n",
    "annotator_7_files = sorted(glob(os.path.join(annotator_dir, \"annotator7\", \"*ann7_isovox.nii.gz\")),\n",
    "              key=lambda i: int(re.sub('\\D', '', i)))\n",
    "\n",
    "test_files = [{'image': a1, 'ann2': a2, 'ann3': a3, 'ann4': a4, 'ann5': a5, 'ann6': a6, 'ann7': a7}\n",
    "              for a1, a2, a3, a4, a5, a6, a7 in zip(annotator_1_files, annotator_2_files,\n",
    "                                                    annotator_3_files, annotator_4_files,\n",
    "                                                    annotator_5_files, annotator_6_files,\n",
    "                                                    annotator_7_files)]\n",
    "\n",
    "print(\"Testing cases:\", len(test_files))\n",
    "\n",
    "# Define transforms\n",
    "val_transforms = Compose(\n",
    "[\n",
    "    LoadImaged(keys=[\"image\", \"ann2\", \"ann3\", \"ann4\", \"ann5\", \"ann6\", \"ann7\"]),\n",
    "    AddChanneld(keys=[\"image\", \"ann2\", \"ann3\", \"ann4\", \"ann5\", \"ann6\", \"ann7\"]),\n",
    "    ToTensord(keys=[\"image\", \"ann2\", \"ann3\", \"ann4\", \"ann5\", \"ann6\", \"ann7\"]),\n",
    "]\n",
    ")\n",
    "# Define dataset and dataloader to iterate the data\n",
    "val_ds = CacheDataset(data=test_files, transform=val_transforms,\n",
    "                      cache_rate=0.1, num_workers=0)\n",
    "val_loader = DataLoader(val_ds, batch_size=1, num_workers=0)"
   ],
   "metadata": {
    "collapsed": false,
    "pycharm": {
     "name": "#%%\n"
    }
   }
  },
  {
   "cell_type": "code",
   "execution_count": 3,
   "outputs": [
    {
     "name": "stdout",
     "output_type": "stream",
     "text": [
      "Patient num:  1\n",
      "Patient num:  2\n",
      "Patient num:  3\n",
      "Patient num:  4\n",
      "Patient num:  5\n",
      "Patient num:  6\n",
      "Patient num:  7\n",
      "Patient num:  8\n",
      "Patient num:  9\n",
      "Patient num:  10\n",
      "Patient num:  11\n",
      "Patient num:  12\n",
      "Patient num:  13\n",
      "Patient num:  14\n",
      "Patient num:  15\n",
      "Patient num:  16\n",
      "Patient num:  17\n",
      "Patient num:  18\n",
      "Patient num:  19\n",
      "Patient num:  20\n",
      "Patient num:  21\n",
      "Patient num:  22\n",
      "Patient num:  23\n",
      "Patient num:  24\n"
     ]
    }
   ],
   "source": [
    "for patient_count, batch_data in enumerate(val_loader):\n",
    "    print(\"Patient num: \", patient_count + 1)\n",
    "    ann1_labels, ann2_labels, ann3_labels, \\\n",
    "    ann4_labels, ann5_labels, ann6_labels, \\\n",
    "    ann7_labels = batch_data[\"image\"], \\\n",
    "                  batch_data[\"ann2\"], \\\n",
    "                  batch_data[\"ann3\"], \\\n",
    "                  batch_data[\"ann4\"], \\\n",
    "                  batch_data[\"ann5\"], \\\n",
    "                  batch_data[\"ann6\"], \\\n",
    "                  batch_data[\"ann7\"]\n",
    "\n",
    "    all_annotators = []\n",
    "    for idx in range(1, 8):\n",
    "        if idx == 1:\n",
    "            ann_data = batch_data[\"image\"].numpy()\n",
    "        else:\n",
    "            ann_data = batch_data[\"ann\" + str(idx)].numpy()\n",
    "        ann_data = np.squeeze(ann_data[0])\n",
    "        all_annotators.append(ann_data)\n",
    "\n",
    "    mean_annotator = np.mean(all_annotators, axis=0)\n",
    "    disagreement_annotator = mean_annotator * (1 - mean_annotator)\n",
    "    affine=batch_data['image_meta_dict']['original_affine'][0]\n",
    "    spatial_shape=batch_data['image_meta_dict']['spatial_shape'][0]\n",
    "\n",
    "    write_nifti(disagreement_annotator,\n",
    "            os.path.join(save_dir, str(patient_count + 1) + \"_disagreement_annotation.nii.gz\"),\n",
    "            affine=affine, target_affine=affine,\n",
    "            output_spatial_shape=spatial_shape)"
   ],
   "metadata": {
    "collapsed": false,
    "pycharm": {
     "name": "#%%\n"
    }
   }
  },
  {
   "cell_type": "code",
   "execution_count": 3,
   "outputs": [],
   "source": [],
   "metadata": {
    "collapsed": false,
    "pycharm": {
     "name": "#%%\n"
    }
   }
  }
 ],
 "metadata": {
  "kernelspec": {
   "display_name": "Python 3",
   "language": "python",
   "name": "python3"
  },
  "language_info": {
   "codemirror_mode": {
    "name": "ipython",
    "version": 2
   },
   "file_extension": ".py",
   "mimetype": "text/x-python",
   "name": "python",
   "nbconvert_exporter": "python",
   "pygments_lexer": "ipython2",
   "version": "2.7.6"
  }
 },
 "nbformat": 4,
 "nbformat_minor": 0
}